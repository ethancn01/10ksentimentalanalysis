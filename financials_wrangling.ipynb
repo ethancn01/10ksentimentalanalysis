{
 "cells": [
  {
   "cell_type": "code",
   "execution_count": 2,
   "metadata": {},
   "outputs": [],
   "source": [
    "import pandas as pd\n",
    "import numpy as np"
   ]
  },
  {
   "cell_type": "code",
   "execution_count": 3,
   "metadata": {},
   "outputs": [],
   "source": [
    "#Introducing bloomberg's data transformed by another script (upload later)\n",
    "roe_url = 'https://raw.githubusercontent.com/ethancn01/10ksentimentalanalysis/main/ROE_Mapped_data.csv'\n",
    "roe = pd.read_csv(roe_url)"
   ]
  },
  {
   "cell_type": "code",
   "execution_count": 24,
   "metadata": {},
   "outputs": [],
   "source": [
    "roe.to_csv('roe.csv')"
   ]
  },
  {
   "cell_type": "code",
   "execution_count": 12,
   "metadata": {},
   "outputs": [],
   "source": [
    "#Make ROE YO YOY: roe['ROE Y0 YOY']=if roe['YEAR-1 ROE'] not equal to zero, then roe['ROE']-roe['YEAR-1 ROE'] ; else=roe['ROE']/2\n",
    "roe['ROE Y0 YOY'] = np.where(roe['YEAR-1 ROE'] != 0, \n",
    "                             (roe['ROE'] - roe['YEAR-1 ROE'])/100, \n",
    "                             roe['ROE'] / 200)"
   ]
  },
  {
   "cell_type": "code",
   "execution_count": 13,
   "metadata": {},
   "outputs": [],
   "source": [
    "#Make ROE Y+1 YOY:\n",
    "roe['ROE Y1 YOY'] = np.where(roe['YEAR+1 ROE'] != 0, \n",
    "                             (roe['YEAR+1 ROE'] - roe['ROE'])/100, \n",
    "                             0)"
   ]
  },
  {
   "cell_type": "code",
   "execution_count": 22,
   "metadata": {},
   "outputs": [],
   "source": [
    "#Adjust CURRENT REVENUE YOY \n",
    "roe['CURRENT REVENUE YOY'] = np.where(roe['YEAR-1 REVENUE'] != 0, \n",
    "                             (roe['REVENUE'] / roe['YEAR-1 REVENUE'])-1, \n",
    "                             0.5 )\n"
   ]
  },
  {
   "cell_type": "code",
   "execution_count": 23,
   "metadata": {},
   "outputs": [],
   "source": [
    "#Adjust NEXT REVENUE YOY \n",
    "roe['NEXT REVENUE YOY'] = np.where(roe['YEAR+1 REVENUE'] != 0, \n",
    "                             (roe['YEAR+1 REVENUE'] / roe['REVENUE'])-1, \n",
    "                             0 )"
   ]
  },
  {
   "cell_type": "code",
   "execution_count": 25,
   "metadata": {},
   "outputs": [],
   "source": [
    "roe.to_csv('financials.csv')"
   ]
  }
 ],
 "metadata": {
  "kernelspec": {
   "display_name": "base",
   "language": "python",
   "name": "python3"
  },
  "language_info": {
   "codemirror_mode": {
    "name": "ipython",
    "version": 3
   },
   "file_extension": ".py",
   "mimetype": "text/x-python",
   "name": "python",
   "nbconvert_exporter": "python",
   "pygments_lexer": "ipython3",
   "version": "3.11.6"
  }
 },
 "nbformat": 4,
 "nbformat_minor": 2
}
