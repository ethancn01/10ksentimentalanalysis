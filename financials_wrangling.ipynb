{
 "cells": [
  {
   "cell_type": "code",
   "execution_count": 1,
   "metadata": {},
   "outputs": [],
   "source": [
    "import pandas as pd\n",
    "import numpy as np"
   ]
  },
  {
   "cell_type": "code",
   "execution_count": 3,
   "metadata": {},
   "outputs": [],
   "source": [
    "financials_url = 'https://raw.githubusercontent.com/ethancn01/10ksentimentalanalysis/main/financials.csv'\n",
    "financials=pd.read_csv(financials_url)"
   ]
  },
  {
   "cell_type": "code",
   "execution_count": 8,
   "metadata": {},
   "outputs": [],
   "source": [
    "#organize the locations of the columns\n",
    "financials = financials[[col for col in financials if col not in ['YEAR-1 REVENUE', 'REVENUE', 'YEAR+1 REVENUE', \n",
    "                                                                 'YEAR-1 NET INCOME', 'INCOME', 'YEAR+1 NET INCOME']] +\n",
    "                        ['YEAR-1 REVENUE', 'REVENUE', 'YEAR+1 REVENUE', \n",
    "                         'YEAR-1 NET INCOME', 'INCOME', 'YEAR+1 NET INCOME']]\n"
   ]
  },
  {
   "cell_type": "code",
   "execution_count": null,
   "metadata": {},
   "outputs": [],
   "source": [
    "financials.replace(' ', np.nan, inplace=True)\n",
    "\n",
    "# Calculate Profit Margin\n",
    "financials['Y-1 PROFIT MARGIN'] = financials['YEAR-1 NET INCOME'].astype(float) / financials['YEAR-1 REVENUE'].astype(float)\n",
    "financials['Y PROFIT MARGIN'] = financials['INCOME'].astype(float) / financials['REVENUE'].astype(float)\n",
    "financials['Y+1 PROFIT MARGIN'] = financials['YEAR+1 NET INCOME'].astype(float) / financials['YEAR+1 REVENUE'].astype(float)\n"
   ]
  },
  {
   "cell_type": "code",
   "execution_count": 12,
   "metadata": {},
   "outputs": [],
   "source": [
    "# Calculate YOY\n",
    "financials['CURRENT REVENUE YOY'] = (financials['REVENUE'].astype(float) - financials['YEAR-1 REVENUE'].astype(float)) / financials['YEAR-1 REVENUE'].astype(float)\n",
    "financials['NEXT REVENUE YOY'] = (financials['YEAR+1 REVENUE'].astype(float) - financials['REVENUE'].astype(float)) / financials['REVENUE'].astype(float)\n",
    "financials['CURRENT PROFIT MARGIN YOY'] = financials['Y PROFIT MARGIN'] - financials['Y-1 PROFIT MARGIN']\n",
    "financials['NEXT PROFIT MARGIN YOY'] = financials['Y+1 PROFIT MARGIN'] - financials['Y PROFIT MARGIN']\n"
   ]
  },
  {
   "cell_type": "code",
   "execution_count": 15,
   "metadata": {},
   "outputs": [],
   "source": [
    "financials.to_csv('financials_md.csv')"
   ]
  }
 ],
 "metadata": {
  "kernelspec": {
   "display_name": "base",
   "language": "python",
   "name": "python3"
  },
  "language_info": {
   "codemirror_mode": {
    "name": "ipython",
    "version": 3
   },
   "file_extension": ".py",
   "mimetype": "text/x-python",
   "name": "python",
   "nbconvert_exporter": "python",
   "pygments_lexer": "ipython3",
   "version": "3.11.6"
  }
 },
 "nbformat": 4,
 "nbformat_minor": 2
}
