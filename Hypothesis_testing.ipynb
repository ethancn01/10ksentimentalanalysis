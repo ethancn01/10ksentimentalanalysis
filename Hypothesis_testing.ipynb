{
 "cells": [
  {
   "cell_type": "markdown",
   "metadata": {},
   "source": [
    "## Hypothesis Testing\n",
    "#### Important: Make sure you have the following dataframe in the ram before executing the codes\n",
    "##### (1) df_10ksp_filtered3 for the approach of BAG OF WORDS\n",
    "##### (2) df_10ksp_filtered4 for the approach of TF-IDF\n",
    "##### (3) df_10ksp_filtered5 for the approach of BERT"
   ]
  }
 ],
 "metadata": {
  "language_info": {
   "name": "python"
  }
 },
 "nbformat": 4,
 "nbformat_minor": 2
}
