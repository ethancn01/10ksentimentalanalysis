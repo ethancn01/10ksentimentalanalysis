{
 "cells": [
  {
   "cell_type": "markdown",
   "metadata": {},
   "source": [
    "## Hypothesis Testing\n",
    "#### Important: Make sure you have the following dataframe in the ram before executing the codes\n",
    "##### (1) df_10ksp_filtered3 for the approach of BAG OF WORDS\n",
    "##### (2) df_10ksp_filtered4 for the approach of TF-IDF\n",
    "##### (3) df_10ksp_filtered5 for the approach of BERT"
   ]
  },
  {
   "cell_type": "code",
   "execution_count": 266,
   "metadata": {},
   "outputs": [],
   "source": [
    "%store -r df_10ksp_filtered3\n",
    "%store -r df_10ksp_filtered4\n",
    "%store -r df_10ksp_filtered5"
   ]
  },
  {
   "cell_type": "code",
   "execution_count": 175,
   "metadata": {},
   "outputs": [],
   "source": [
    "import pandas as pd\n",
    "import numpy as np"
   ]
  },
  {
   "cell_type": "code",
   "execution_count": 118,
   "metadata": {},
   "outputs": [],
   "source": [
    "#in case you need to call these variables by uploading:\n",
    "#skip this if you already created these variables in jupyter notebook\n",
    "df_10ksp_filtered3=pd.read_csv('filter3.csv')#if your local save is under other file name, please change\n",
    "df_10ksp_filtered4=pd.read_csv('filtered4.csv')\n",
    "df_10ksp_filtered5=pd.read_csv('finbert_df5.csv')"
   ]
  },
  {
   "cell_type": "markdown",
   "metadata": {},
   "source": [
    "#### ABNORMAL VOLUME"
   ]
  },
  {
   "cell_type": "code",
   "execution_count": 153,
   "metadata": {},
   "outputs": [
    {
     "data": {
      "text/plain": [
       "1.1499918794793276"
      ]
     },
     "execution_count": 153,
     "metadata": {},
     "output_type": "execute_result"
    }
   ],
   "source": [
    "#volume data and control variables\n",
    "vol_url='https://raw.githubusercontent.com/ethancn01/10ksentimentalanalysis/main/Vol_data.csv'\n",
    "vol=pd.read_csv(vol_url)\n",
    "vol.drop(vol.columns[-2], axis=1, inplace=True)\n",
    "vol['abnormal_vol_mcd']=vol['d4']/vol['base_vol']\n",
    "vol['abnormal_vol_mcd'].mean()"
   ]
  },
  {
   "cell_type": "markdown",
   "metadata": {},
   "source": [
    "#### ABNORMAL RETURN"
   ]
  },
  {
   "cell_type": "code",
   "execution_count": 176,
   "metadata": {},
   "outputs": [],
   "source": [
    "#Abnormal return\n",
    "ar_url='https://raw.githubusercontent.com/ethancn01/10ksentimentalanalysis/main/Abnormal_return.xlsx'\n",
    "ar=pd.read_excel(ar_url)"
   ]
  },
  {
   "cell_type": "code",
   "execution_count": 178,
   "metadata": {},
   "outputs": [
    {
     "data": {
      "text/html": [
       "<div>\n",
       "<style scoped>\n",
       "    .dataframe tbody tr th:only-of-type {\n",
       "        vertical-align: middle;\n",
       "    }\n",
       "\n",
       "    .dataframe tbody tr th {\n",
       "        vertical-align: top;\n",
       "    }\n",
       "\n",
       "    .dataframe thead th {\n",
       "        text-align: right;\n",
       "    }\n",
       "</style>\n",
       "<table border=\"1\" class=\"dataframe\">\n",
       "  <thead>\n",
       "    <tr style=\"text-align: right;\">\n",
       "      <th></th>\n",
       "      <th>Unnamed: 0</th>\n",
       "      <th>ACCESSION NUMBER</th>\n",
       "      <th>CONFORMED SUBMISSION TYPE</th>\n",
       "      <th>CONFORMED PERIOD OF REPORT</th>\n",
       "      <th>FILED AS OF DATE</th>\n",
       "      <th>DATE AS OF CHANGE</th>\n",
       "      <th>COMPANY CONFORMED NAME</th>\n",
       "      <th>CENTRAL INDEX KEY</th>\n",
       "      <th>ticker</th>\n",
       "      <th>FISCAL YEAR END</th>\n",
       "      <th>CAR(T0)</th>\n",
       "      <th>CAR(T1)</th>\n",
       "      <th>CAR(T3)</th>\n",
       "      <th>CAR(T5)</th>\n",
       "      <th>CAR(T10)</th>\n",
       "      <th>CAR(T15)</th>\n",
       "      <th>CAR(T20)</th>\n",
       "      <th>CAR(T30)</th>\n",
       "      <th>CAR(T60)</th>\n",
       "      <th>alpha</th>\n",
       "    </tr>\n",
       "  </thead>\n",
       "  <tbody>\n",
       "    <tr>\n",
       "      <th>0</th>\n",
       "      <td>0</td>\n",
       "      <td>0000004904-00-000039</td>\n",
       "      <td>10-K405</td>\n",
       "      <td>19991231</td>\n",
       "      <td>20000324</td>\n",
       "      <td>Not found</td>\n",
       "      <td>AMERICAN ELECTRIC POWER COMPANY INC</td>\n",
       "      <td>4904</td>\n",
       "      <td>AEP</td>\n",
       "      <td>1231</td>\n",
       "      <td>0.012700</td>\n",
       "      <td>0.022754</td>\n",
       "      <td>-0.009894</td>\n",
       "      <td>-0.027305</td>\n",
       "      <td>-0.007303</td>\n",
       "      <td>0.023747</td>\n",
       "      <td>0.076834</td>\n",
       "      <td>0.135472</td>\n",
       "      <td>0.146637</td>\n",
       "      <td>0.0002</td>\n",
       "    </tr>\n",
       "    <tr>\n",
       "      <th>1</th>\n",
       "      <td>1</td>\n",
       "      <td>0000037996-00-000019</td>\n",
       "      <td>10-K</td>\n",
       "      <td>19991231</td>\n",
       "      <td>20000316</td>\n",
       "      <td>Not found</td>\n",
       "      <td>FORD MOTOR CO</td>\n",
       "      <td>37996</td>\n",
       "      <td>F</td>\n",
       "      <td>1231</td>\n",
       "      <td>-0.081310</td>\n",
       "      <td>-0.066145</td>\n",
       "      <td>-0.076908</td>\n",
       "      <td>-0.125355</td>\n",
       "      <td>-0.083754</td>\n",
       "      <td>-0.030085</td>\n",
       "      <td>0.052572</td>\n",
       "      <td>0.066003</td>\n",
       "      <td>-0.034343</td>\n",
       "      <td>-0.0003</td>\n",
       "    </tr>\n",
       "    <tr>\n",
       "      <th>2</th>\n",
       "      <td>2</td>\n",
       "      <td>0000898430-00-003950</td>\n",
       "      <td>10-K</td>\n",
       "      <td>20000930</td>\n",
       "      <td>20001227</td>\n",
       "      <td>Not found</td>\n",
       "      <td>JACOBS ENGINEERING GROUP INC /DE/</td>\n",
       "      <td>52988</td>\n",
       "      <td>J</td>\n",
       "      <td>930</td>\n",
       "      <td>-0.015927</td>\n",
       "      <td>-0.037694</td>\n",
       "      <td>0.006655</td>\n",
       "      <td>0.068483</td>\n",
       "      <td>0.031468</td>\n",
       "      <td>0.122843</td>\n",
       "      <td>0.092758</td>\n",
       "      <td>0.089306</td>\n",
       "      <td>0.022812</td>\n",
       "      <td>-0.0004</td>\n",
       "    </tr>\n",
       "  </tbody>\n",
       "</table>\n",
       "</div>"
      ],
      "text/plain": [
       "   Unnamed: 0      ACCESSION NUMBER CONFORMED SUBMISSION TYPE  \\\n",
       "0           0  0000004904-00-000039                   10-K405   \n",
       "1           1  0000037996-00-000019                      10-K   \n",
       "2           2  0000898430-00-003950                      10-K   \n",
       "\n",
       "   CONFORMED PERIOD OF REPORT  FILED AS OF DATE DATE AS OF CHANGE  \\\n",
       "0                    19991231          20000324         Not found   \n",
       "1                    19991231          20000316         Not found   \n",
       "2                    20000930          20001227         Not found   \n",
       "\n",
       "                COMPANY CONFORMED NAME  CENTRAL INDEX KEY ticker  \\\n",
       "0  AMERICAN ELECTRIC POWER COMPANY INC               4904    AEP   \n",
       "1                        FORD MOTOR CO              37996      F   \n",
       "2    JACOBS ENGINEERING GROUP INC /DE/              52988      J   \n",
       "\n",
       "  FISCAL YEAR END   CAR(T0)   CAR(T1)   CAR(T3)   CAR(T5)  CAR(T10)  CAR(T15)  \\\n",
       "0            1231  0.012700  0.022754 -0.009894 -0.027305 -0.007303  0.023747   \n",
       "1            1231 -0.081310 -0.066145 -0.076908 -0.125355 -0.083754 -0.030085   \n",
       "2             930 -0.015927 -0.037694  0.006655  0.068483  0.031468  0.122843   \n",
       "\n",
       "   CAR(T20)  CAR(T30)  CAR(T60)   alpha  \n",
       "0  0.076834  0.135472  0.146637  0.0002  \n",
       "1  0.052572  0.066003 -0.034343 -0.0003  \n",
       "2  0.092758  0.089306  0.022812 -0.0004  "
      ]
     },
     "execution_count": 178,
     "metadata": {},
     "output_type": "execute_result"
    }
   ],
   "source": [
    "ar.head(3)"
   ]
  },
  {
   "cell_type": "code",
   "execution_count": 179,
   "metadata": {},
   "outputs": [
    {
     "name": "stderr",
     "output_type": "stream",
     "text": [
      "/Applications/anaconda3/lib/python3.11/site-packages/seaborn/_oldcore.py:1119: FutureWarning: use_inf_as_na option is deprecated and will be removed in a future version. Convert inf values to NaN before operating instead.\n",
      "  with pd.option_context('mode.use_inf_as_na', True):\n"
     ]
    },
    {
     "data": {
      "image/png": "[encoded data removed]",
      "text/plain": [
       "<Figure size 640x480 with 1 Axes>"
      ]
     },
     "metadata": {},
     "output_type": "display_data"
    }
   ],
   "source": [
    "import seaborn as sns\n",
    "import matplotlib.pyplot as plt\n",
    "\n",
    "sns.histplot(ar['CAR(T0)'], kde=True, color='blue', bins=300)\n",
    "plt.title('Distribution of CAR(T0)')\n",
    "plt.xlabel('CAR(T0)')\n",
    "plt.ylabel('Frequency')\n",
    "\n",
    "\n",
    "plt.show()\n"
   ]
  },
  {
   "cell_type": "markdown",
   "metadata": {},
   "source": [
    "#### FINANCIAL PERFORMANCE"
   ]
  },
  {
   "cell_type": "code",
   "execution_count": 209,
   "metadata": {},
   "outputs": [],
   "source": [
    "fin_url='https://raw.githubusercontent.com/ethancn01/10ksentimentalanalysis/main/financials.csv'\n",
    "fin=pd.read_csv(fin_url)"
   ]
  },
  {
   "cell_type": "markdown",
   "metadata": {},
   "source": [
    "## 1. BAG OF WORDS"
   ]
  },
  {
   "cell_type": "code",
   "execution_count": 180,
   "metadata": {},
   "outputs": [],
   "source": [
    "df_10ksp_filtered3['neg_proportion']=df_10ksp_filtered3['Negative']/df_10ksp_filtered3['Total Word Count']"
   ]
  },
  {
   "cell_type": "code",
   "execution_count": 181,
   "metadata": {},
   "outputs": [
    {
     "name": "stderr",
     "output_type": "stream",
     "text": [
      "/Applications/anaconda3/lib/python3.11/site-packages/seaborn/_oldcore.py:1119: FutureWarning: use_inf_as_na option is deprecated and will be removed in a future version. Convert inf values to NaN before operating instead.\n",
      "  with pd.option_context('mode.use_inf_as_na', True):\n"
     ]
    },
    {
     "data": {
      "image/png": "[encoded data removed]",
      "text/plain": [
       "<Figure size 640x480 with 1 Axes>"
      ]
     },
     "metadata": {},
     "output_type": "display_data"
    }
   ],
   "source": [
    "# The distribution of BOW Negative Scores\n",
    "df_10ksp_filtered3.head(3)\n",
    "import seaborn as sns\n",
    "import matplotlib.pyplot as plt\n",
    "\n",
    "sns.histplot(data=df_10ksp_filtered3, x='neg_proportion', bins=100, kde=True)\n",
    "plt.title('Distribution of BOW NEG SCORE')\n",
    "plt.xlabel('BOW NEG SCORE')\n",
    "plt.ylabel('Frequency')\n",
    "plt.show()"
   ]
  },
  {
   "cell_type": "markdown",
   "metadata": {},
   "source": [
    "#### 1.1 BOW VS ABNORMAL VOLUME"
   ]
  },
  {
   "cell_type": "code",
   "execution_count": 191,
   "metadata": {},
   "outputs": [
    {
     "name": "stdout",
     "output_type": "stream",
     "text": [
      "                            OLS Regression Results                            \n",
      "==============================================================================\n",
      "Dep. Variable:       abnormal_vol_mcd   R-squared:                       0.002\n",
      "Model:                            OLS   Adj. R-squared:                  0.000\n",
      "Method:                 Least Squares   F-statistic:                     1.296\n",
      "Date:                Sun, 25 Feb 2024   Prob (F-statistic):              0.263\n",
      "Time:                        22:40:19   Log-Likelihood:                -2862.7\n",
      "No. Observations:                3063   AIC:                             5737.\n",
      "Df Residuals:                    3057   BIC:                             5774.\n",
      "Df Model:                           5                                         \n",
      "Covariance Type:            nonrobust                                         \n",
      "==============================================================================\n",
      "                 coef    std err          t      P>|t|      [0.025      0.975]\n",
      "------------------------------------------------------------------------------\n",
      "const          1.1500      0.011    103.201      0.000       1.128       1.172\n",
      "x1             0.0376      0.020      1.915      0.056      -0.001       0.076\n",
      "x2            -0.0381      0.022     -1.695      0.090      -0.082       0.006\n",
      "x3             0.0020      0.025      0.080      0.936      -0.047       0.051\n",
      "x4            -0.0012      0.011     -0.110      0.913      -0.023       0.021\n",
      "x5             0.0130      0.011      1.161      0.246      -0.009       0.035\n",
      "==============================================================================\n",
      "Omnibus:                     3568.021   Durbin-Watson:                   1.887\n",
      "Prob(Omnibus):                  0.000   Jarque-Bera (JB):           652311.287\n",
      "Skew:                           5.825   Prob(JB):                         0.00\n",
      "Kurtosis:                      73.537   Cond. No.                         4.49\n",
      "==============================================================================\n",
      "\n",
      "Notes:\n",
      "[1] Standard Errors assume that the covariance matrix of the errors is correctly specified.\n"
     ]
    }
   ],
   "source": [
    "import pandas as pd\n",
    "import numpy as np\n",
    "import scipy.stats as stats\n",
    "import statsmodels.api as sm\n",
    "\n",
    "merged_df = pd.merge(df_10ksp_filtered3, vol, on='ACCESSION NUMBER')\n",
    "merged_df = merged_df.dropna(subset=['abnormal_vol_mcd'])\n",
    "# merged_df = merged_df[merged_df['abnormal_vol_mcd']>=1]\n",
    "\n",
    "merged_df['PB_ratios'] = pd.to_numeric(merged_df['PB_ratios'], errors='coerce')\n",
    "merged_df['PB_ratios'].fillna(merged_df['PB_ratios'].mean(), inplace=True)\n",
    "\n",
    "merged_df['mkt_cap'] = pd.to_numeric(merged_df['mkt_cap'], errors='coerce')\n",
    "merged_df['mkt_cap'].fillna(merged_df['mkt_cap'].mean(), inplace=True)\n",
    "\n",
    "\n",
    "from sklearn.preprocessing import StandardScaler\n",
    "import pandas as pd\n",
    "import statsmodels.api as sm\n",
    "\n",
    "\n",
    "X = merged_df[['Negative','Positive','Total Word Count', 'mkt_cap', 'PB_ratios']]\n",
    "scaler = StandardScaler()\n",
    "X_scaled = scaler.fit_transform(X)\n",
    "\n",
    "X_scaled_with_const = sm.add_constant(X_scaled)\n",
    "\n",
    "Y = merged_df['abnormal_vol_mcd']\n",
    "\n",
    "model = sm.OLS(Y, X_scaled_with_const).fit()\n",
    "\n",
    "print(model.summary())\n"
   ]
  },
  {
   "cell_type": "markdown",
   "metadata": {},
   "source": [
    "#### 1.2 BOW VS ABNORMAL RETURN"
   ]
  },
  {
   "cell_type": "code",
   "execution_count": 192,
   "metadata": {},
   "outputs": [],
   "source": [
    "#merge the abnormal return\n",
    "merged_df = pd.merge(merged_df, ar[['ACCESSION NUMBER', 'CAR(T0)', 'CAR(T1)', 'CAR(T3)', 'CAR(T5)', 'CAR(T10)', 'CAR(T15)', 'CAR(T20)', 'CAR(T30)', 'CAR(T60)','alpha']], on='ACCESSION NUMBER', how='left')\n",
    "merged_df=merged_df.dropna(subset=['alpha'])"
   ]
  },
  {
   "cell_type": "code",
   "execution_count": 193,
   "metadata": {},
   "outputs": [
    {
     "name": "stdout",
     "output_type": "stream",
     "text": [
      "                            OLS Regression Results                            \n",
      "==============================================================================\n",
      "Dep. Variable:                CAR(T0)   R-squared:                       0.002\n",
      "Model:                            OLS   Adj. R-squared:                  0.001\n",
      "Method:                 Least Squares   F-statistic:                     1.272\n",
      "Date:                Sun, 25 Feb 2024   Prob (F-statistic):              0.267\n",
      "Time:                        22:40:29   Log-Likelihood:                 6572.9\n",
      "No. Observations:                3096   AIC:                        -1.313e+04\n",
      "Df Residuals:                    3089   BIC:                        -1.309e+04\n",
      "Df Model:                           6                                         \n",
      "Covariance Type:            nonrobust                                         \n",
      "==============================================================================\n",
      "                 coef    std err          t      P>|t|      [0.025      0.975]\n",
      "------------------------------------------------------------------------------\n",
      "const          0.0006      0.001      1.083      0.279      -0.000       0.002\n",
      "x1             0.0003      0.001      0.362      0.717      -0.001       0.002\n",
      "x2            -0.0002      0.001     -0.229      0.819      -0.002       0.002\n",
      "x3             0.0006      0.001      0.538      0.591      -0.002       0.003\n",
      "x4             0.0006      0.001      1.207      0.228      -0.000       0.002\n",
      "x5            -0.0005      0.001     -0.962      0.336      -0.002       0.001\n",
      "x6             0.0010      0.001      1.980      0.048    1.02e-05       0.002\n",
      "==============================================================================\n",
      "Omnibus:                     1655.500   Durbin-Watson:                   1.949\n",
      "Prob(Omnibus):                  0.000   Jarque-Bera (JB):           317714.457\n",
      "Skew:                          -1.431   Prob(JB):                         0.00\n",
      "Kurtosis:                      52.545   Cond. No.                         4.48\n",
      "==============================================================================\n",
      "\n",
      "Notes:\n",
      "[1] Standard Errors assume that the covariance matrix of the errors is correctly specified.\n"
     ]
    }
   ],
   "source": [
    "X = merged_df[['Negative','Positive','Total Word Count','mkt_cap', 'PB_ratios','alpha']]\n",
    "scaler = StandardScaler()\n",
    "X_scaled = scaler.fit_transform(X)\n",
    "\n",
    "X_scaled_with_const = sm.add_constant(X_scaled)\n",
    "\n",
    "Y = merged_df['CAR(T0)']\n",
    "\n",
    "model = sm.OLS(Y, X_scaled_with_const).fit()\n",
    "\n",
    "print(model.summary())"
   ]
  },
  {
   "cell_type": "code",
   "execution_count": 194,
   "metadata": {},
   "outputs": [
    {
     "name": "stdout",
     "output_type": "stream",
     "text": [
      "Regression for data up to and including 2010:\n",
      "                            OLS Regression Results                            \n",
      "==============================================================================\n",
      "Dep. Variable:                CAR(T0)   R-squared:                       0.005\n",
      "Model:                            OLS   Adj. R-squared:                 -0.003\n",
      "Method:                 Least Squares   F-statistic:                    0.6442\n",
      "Date:                Sun, 25 Feb 2024   Prob (F-statistic):              0.695\n",
      "Time:                        22:41:21   Log-Likelihood:                 1511.4\n",
      "No. Observations:                 769   AIC:                            -3009.\n",
      "Df Residuals:                     762   BIC:                            -2976.\n",
      "Df Model:                           6                                         \n",
      "Covariance Type:            nonrobust                                         \n",
      "==============================================================================\n",
      "                 coef    std err          t      P>|t|      [0.025      0.975]\n",
      "------------------------------------------------------------------------------\n",
      "const         -0.0022      0.001     -1.754      0.080      -0.005       0.000\n",
      "x1             0.0022      0.002      1.052      0.293      -0.002       0.006\n",
      "x2             0.0007      0.002      0.323      0.746      -0.004       0.005\n",
      "x3            -0.0018      0.003     -0.684      0.494      -0.007       0.003\n",
      "x4             0.0006      0.001      0.491      0.623      -0.002       0.003\n",
      "x5             0.0016      0.001      1.255      0.210      -0.001       0.004\n",
      "x6            -0.0011      0.001     -0.880      0.379      -0.004       0.001\n",
      "==============================================================================\n",
      "Omnibus:                      884.228   Durbin-Watson:                   1.824\n",
      "Prob(Omnibus):                  0.000   Jarque-Bera (JB):           255394.138\n",
      "Skew:                          -5.043   Prob(JB):                         0.00\n",
      "Kurtosis:                      91.707   Cond. No.                         4.31\n",
      "==============================================================================\n",
      "\n",
      "Notes:\n",
      "[1] Standard Errors assume that the covariance matrix of the errors is correctly specified.\n",
      "\n",
      "Regression for data from 2011 onwards:\n",
      "                            OLS Regression Results                            \n",
      "==============================================================================\n",
      "Dep. Variable:                CAR(T0)   R-squared:                       0.009\n",
      "Model:                            OLS   Adj. R-squared:                  0.006\n",
      "Method:                 Least Squares   F-statistic:                     3.452\n",
      "Date:                Sun, 25 Feb 2024   Prob (F-statistic):            0.00213\n",
      "Time:                        22:41:21   Log-Likelihood:                 5106.5\n",
      "No. Observations:                2327   AIC:                        -1.020e+04\n",
      "Df Residuals:                    2320   BIC:                        -1.016e+04\n",
      "Df Model:                           6                                         \n",
      "Covariance Type:            nonrobust                                         \n",
      "==============================================================================\n",
      "                 coef    std err          t      P>|t|      [0.025      0.975]\n",
      "------------------------------------------------------------------------------\n",
      "const          0.0015      0.001      2.613      0.009       0.000       0.003\n",
      "x1         -8.865e-05      0.001     -0.090      0.928      -0.002       0.002\n",
      "x2            -0.0006      0.001     -0.509      0.611      -0.003       0.002\n",
      "x3             0.0012      0.001      0.938      0.348      -0.001       0.004\n",
      "x4             0.0005      0.001      0.848      0.397      -0.001       0.002\n",
      "x5            -0.0008      0.001     -1.454      0.146      -0.002       0.000\n",
      "x6             0.0023      0.001      4.159      0.000       0.001       0.003\n",
      "==============================================================================\n",
      "Omnibus:                      755.094   Durbin-Watson:                   2.022\n",
      "Prob(Omnibus):                  0.000   Jarque-Bera (JB):            18925.503\n",
      "Skew:                           0.960   Prob(JB):                         0.00\n",
      "Kurtosis:                      16.838   Cond. No.                         4.56\n",
      "==============================================================================\n",
      "\n",
      "Notes:\n",
      "[1] Standard Errors assume that the covariance matrix of the errors is correctly specified.\n"
     ]
    }
   ],
   "source": [
    "# test respectively for the data before and after 2010\n",
    "df_pre_2011 = merged_df[merged_df['FILE YEAR'] <= 2010]\n",
    "\n",
    "df_post_2010 = merged_df[merged_df['FILE YEAR'] >= 2011]\n",
    "def run_ols_regression(df):\n",
    "    X = df[['Negative','Positive','Total Word Count','mkt_cap', 'PB_ratios','alpha']]\n",
    "    Y = df['CAR(T0)']\n",
    "    scaler = StandardScaler()\n",
    "    X_scaled = scaler.fit_transform(X)\n",
    "    X_scaled_with_const = sm.add_constant(X_scaled)\n",
    "    model = sm.OLS(Y, X_scaled_with_const).fit()\n",
    "    print(model.summary())\n",
    "print(\"Regression for data up to and including 2010:\")\n",
    "run_ols_regression(df_pre_2011)\n",
    "\n",
    "print(\"\\nRegression for data from 2011 onwards:\")\n",
    "run_ols_regression(df_post_2010)\n"
   ]
  },
  {
   "cell_type": "markdown",
   "metadata": {},
   "source": [
    "#### 1.3 BOW VS REVENUE GROWTH (Y, Y+1); BOW VS ROE CHANGE (Y,Y+1); CONTROL VARIABLES: TOTAL ASSETS,CURRENT ROE,REVENUE"
   ]
  },
  {
   "cell_type": "code",
   "execution_count": 212,
   "metadata": {},
   "outputs": [],
   "source": [
    "#merge the financials\n",
    "merged_df = pd.merge(merged_df, fin[['ACCESSION NUMBER', 'CURRENT REVENUE YOY', 'NEXT REVENUE YOY', 'ROE Y0 YOY', 'ROE Y1 YOY', 'ASSET', 'REVENUE', 'ROE']], on='ACCESSION NUMBER', how='left')\n"
   ]
  },
  {
   "cell_type": "code",
   "execution_count": 219,
   "metadata": {},
   "outputs": [],
   "source": [
    "merged_df = merged_df.replace([np.inf, -np.inf], np.nan).dropna(subset=['CURRENT REVENUE YOY', 'NEXT REVENUE YOY', 'ROE Y0 YOY', 'ROE Y1 YOY', 'ASSET', 'REVENUE', 'ROE'])"
   ]
  },
  {
   "cell_type": "markdown",
   "metadata": {},
   "source": [
    "##### 1.3.1 SENTIMENT VS CURRENT YEAR REVENUE GROWTH"
   ]
  },
  {
   "cell_type": "code",
   "execution_count": 220,
   "metadata": {},
   "outputs": [
    {
     "name": "stdout",
     "output_type": "stream",
     "text": [
      "                             OLS Regression Results                            \n",
      "===============================================================================\n",
      "Dep. Variable:     CURRENT REVENUE YOY   R-squared:                       0.006\n",
      "Model:                             OLS   Adj. R-squared:                  0.003\n",
      "Method:                  Least Squares   F-statistic:                     2.626\n",
      "Date:                 Mon, 26 Feb 2024   Prob (F-statistic):             0.0153\n",
      "Time:                         09:55:02   Log-Likelihood:                -3552.5\n",
      "No. Observations:                 2814   AIC:                             7119.\n",
      "Df Residuals:                     2807   BIC:                             7161.\n",
      "Df Model:                            6                                         \n",
      "Covariance Type:             nonrobust                                         \n",
      "==============================================================================\n",
      "                 coef    std err          t      P>|t|      [0.025      0.975]\n",
      "------------------------------------------------------------------------------\n",
      "const          0.2132      0.016     13.208      0.000       0.182       0.245\n",
      "x1            -0.0490      0.028     -1.725      0.085      -0.105       0.007\n",
      "x2             0.0074      0.033      0.228      0.820      -0.057       0.071\n",
      "x3             0.0227      0.036      0.625      0.532      -0.049       0.094\n",
      "x4            -0.0145      0.018     -0.800      0.424      -0.050       0.021\n",
      "x5            -0.0137      0.018     -0.756      0.450      -0.049       0.022\n",
      "x6             0.0489      0.016      2.969      0.003       0.017       0.081\n",
      "==============================================================================\n",
      "Omnibus:                     5864.372   Durbin-Watson:                   1.953\n",
      "Prob(Omnibus):                  0.000   Jarque-Bera (JB):         17084208.983\n",
      "Skew:                          17.576   Prob(JB):                         0.00\n",
      "Kurtosis:                     383.095   Cond. No.                         4.55\n",
      "==============================================================================\n",
      "\n",
      "Notes:\n",
      "[1] Standard Errors assume that the covariance matrix of the errors is correctly specified.\n"
     ]
    }
   ],
   "source": [
    "X = merged_df[['Negative','Positive','Total Word Count','ASSET', 'REVENUE','ROE']]\n",
    "scaler = StandardScaler()\n",
    "X_scaled = scaler.fit_transform(X)\n",
    "\n",
    "X_scaled_with_const = sm.add_constant(X_scaled)\n",
    "\n",
    "Y = merged_df['CURRENT REVENUE YOY']\n",
    "\n",
    "model = sm.OLS(Y, X_scaled_with_const).fit()\n",
    "\n",
    "print(model.summary())"
   ]
  },
  {
   "cell_type": "markdown",
   "metadata": {},
   "source": [
    "##### 1.3.2 SENTIMENT VS FOLLOWING YEAR REVENUE GROWTH"
   ]
  },
  {
   "cell_type": "code",
   "execution_count": 227,
   "metadata": {},
   "outputs": [
    {
     "name": "stdout",
     "output_type": "stream",
     "text": [
      "                            OLS Regression Results                            \n",
      "==============================================================================\n",
      "Dep. Variable:       NEXT REVENUE YOY   R-squared:                       0.011\n",
      "Model:                            OLS   Adj. R-squared:                  0.009\n",
      "Method:                 Least Squares   F-statistic:                     5.071\n",
      "Date:                Mon, 26 Feb 2024   Prob (F-statistic):           3.47e-05\n",
      "Time:                        09:58:00   Log-Likelihood:                -3421.7\n",
      "No. Observations:                2814   AIC:                             6857.\n",
      "Df Residuals:                    2807   BIC:                             6899.\n",
      "Df Model:                           6                                         \n",
      "Covariance Type:            nonrobust                                         \n",
      "==============================================================================\n",
      "                 coef    std err          t      P>|t|      [0.025      0.975]\n",
      "------------------------------------------------------------------------------\n",
      "const          0.1594      0.015     10.345      0.000       0.129       0.190\n",
      "x1            -0.0335      0.027     -1.236      0.217      -0.087       0.020\n",
      "x2             0.0476      0.031      1.528      0.127      -0.013       0.109\n",
      "x3            -0.0457      0.035     -1.317      0.188      -0.114       0.022\n",
      "x4            -0.0167      0.017     -0.967      0.333      -0.051       0.017\n",
      "x5            -0.0298      0.017     -1.725      0.085      -0.064       0.004\n",
      "x6            -0.0650      0.016     -4.136      0.000      -0.096      -0.034\n",
      "==============================================================================\n",
      "Omnibus:                     6083.780   Durbin-Watson:                   1.980\n",
      "Prob(Omnibus):                  0.000   Jarque-Bera (JB):         23129230.169\n",
      "Skew:                          19.058   Prob(JB):                         0.00\n",
      "Kurtosis:                     445.506   Cond. No.                         4.55\n",
      "==============================================================================\n",
      "\n",
      "Notes:\n",
      "[1] Standard Errors assume that the covariance matrix of the errors is correctly specified.\n"
     ]
    }
   ],
   "source": [
    "X = merged_df[['Negative','Positive','Total Word Count','ASSET', 'REVENUE','ROE']]\n",
    "scaler = StandardScaler()\n",
    "X_scaled = scaler.fit_transform(X)\n",
    "\n",
    "X_scaled_with_const = sm.add_constant(X_scaled)\n",
    "\n",
    "Y = merged_df['NEXT REVENUE YOY']\n",
    "\n",
    "model = sm.OLS(Y, X_scaled_with_const).fit()\n",
    "\n",
    "print(model.summary())"
   ]
  },
  {
   "cell_type": "markdown",
   "metadata": {},
   "source": [
    "##### 1.3.3 SENTIMENT VS CURRENT YEAR ROE CHANGE"
   ]
  },
  {
   "cell_type": "code",
   "execution_count": 228,
   "metadata": {},
   "outputs": [
    {
     "name": "stdout",
     "output_type": "stream",
     "text": [
      "                            OLS Regression Results                            \n",
      "==============================================================================\n",
      "Dep. Variable:             ROE Y0 YOY   R-squared:                       0.371\n",
      "Model:                            OLS   Adj. R-squared:                  0.369\n",
      "Method:                 Least Squares   F-statistic:                     275.4\n",
      "Date:                Mon, 26 Feb 2024   Prob (F-statistic):          1.02e-277\n",
      "Time:                        10:00:26   Log-Likelihood:                 394.17\n",
      "No. Observations:                2814   AIC:                            -774.3\n",
      "Df Residuals:                    2807   BIC:                            -732.7\n",
      "Df Model:                           6                                         \n",
      "Covariance Type:            nonrobust                                         \n",
      "==============================================================================\n",
      "                 coef    std err          t      P>|t|      [0.025      0.975]\n",
      "------------------------------------------------------------------------------\n",
      "const          0.0186      0.004      4.685      0.000       0.011       0.026\n",
      "x1             0.0053      0.007      0.757      0.449      -0.008       0.019\n",
      "x2            -0.0117      0.008     -1.457      0.145      -0.027       0.004\n",
      "x3             0.0118      0.009      1.326      0.185      -0.006       0.029\n",
      "x4             0.0040      0.004      0.894      0.371      -0.005       0.013\n",
      "x5            -0.0123      0.004     -2.760      0.006      -0.021      -0.004\n",
      "x6             0.1635      0.004     40.384      0.000       0.156       0.171\n",
      "==============================================================================\n",
      "Omnibus:                     2775.443   Durbin-Watson:                   1.930\n",
      "Prob(Omnibus):                  0.000   Jarque-Bera (JB):          1158241.513\n",
      "Skew:                          -3.981   Prob(JB):                         0.00\n",
      "Kurtosis:                     102.071   Cond. No.                         4.55\n",
      "==============================================================================\n",
      "\n",
      "Notes:\n",
      "[1] Standard Errors assume that the covariance matrix of the errors is correctly specified.\n"
     ]
    }
   ],
   "source": [
    "X = merged_df[['Negative','Positive','Total Word Count','ASSET', 'REVENUE','ROE']]\n",
    "scaler = StandardScaler()\n",
    "X_scaled = scaler.fit_transform(X)\n",
    "\n",
    "X_scaled_with_const = sm.add_constant(X_scaled)\n",
    "\n",
    "Y = merged_df['ROE Y0 YOY']\n",
    "\n",
    "model = sm.OLS(Y, X_scaled_with_const).fit()\n",
    "\n",
    "print(model.summary())"
   ]
  },
  {
   "cell_type": "markdown",
   "metadata": {},
   "source": [
    "#### 1.3.4 SENTIMENT VS FOLLOWING YEAR ROE CHANGE"
   ]
  },
  {
   "cell_type": "code",
   "execution_count": 230,
   "metadata": {},
   "outputs": [
    {
     "name": "stdout",
     "output_type": "stream",
     "text": [
      "                            OLS Regression Results                            \n",
      "==============================================================================\n",
      "Dep. Variable:             ROE Y1 YOY   R-squared:                       0.014\n",
      "Model:                            OLS   Adj. R-squared:                  0.012\n",
      "Method:                 Least Squares   F-statistic:                     6.506\n",
      "Date:                Mon, 26 Feb 2024   Prob (F-statistic):           7.85e-07\n",
      "Time:                        10:01:30   Log-Likelihood:                -147.43\n",
      "No. Observations:                2814   AIC:                             308.9\n",
      "Df Residuals:                    2807   BIC:                             350.5\n",
      "Df Model:                           6                                         \n",
      "Covariance Type:            nonrobust                                         \n",
      "==============================================================================\n",
      "                 coef    std err          t      P>|t|      [0.025      0.975]\n",
      "------------------------------------------------------------------------------\n",
      "const          0.0130      0.005      2.695      0.007       0.004       0.022\n",
      "x1             0.0073      0.008      0.857      0.391      -0.009       0.024\n",
      "x2             0.0005      0.010      0.056      0.955      -0.019       0.020\n",
      "x3            -0.0134      0.011     -1.236      0.216      -0.035       0.008\n",
      "x4            -0.0041      0.005     -0.755      0.450      -0.015       0.007\n",
      "x5             0.0059      0.005      1.090      0.276      -0.005       0.016\n",
      "x6            -0.0294      0.005     -5.984      0.000      -0.039      -0.020\n",
      "==============================================================================\n",
      "Omnibus:                     2977.907   Durbin-Watson:                   1.975\n",
      "Prob(Omnibus):                  0.000   Jarque-Bera (JB):          2172672.971\n",
      "Skew:                           4.362   Prob(JB):                         0.00\n",
      "Kurtosis:                     138.846   Cond. No.                         4.55\n",
      "==============================================================================\n",
      "\n",
      "Notes:\n",
      "[1] Standard Errors assume that the covariance matrix of the errors is correctly specified.\n"
     ]
    }
   ],
   "source": [
    "X = merged_df[['Negative','Positive','Total Word Count','ASSET', 'REVENUE','ROE']]\n",
    "scaler = StandardScaler()\n",
    "X_scaled = scaler.fit_transform(X)\n",
    "\n",
    "X_scaled_with_const = sm.add_constant(X_scaled)\n",
    "\n",
    "Y = merged_df['ROE Y1 YOY']\n",
    "\n",
    "model = sm.OLS(Y, X_scaled_with_const).fit()\n",
    "\n",
    "print(model.summary())"
   ]
  },
  {
   "cell_type": "markdown",
   "metadata": {},
   "source": [
    "## 2. TF-IDF"
   ]
  },
  {
   "cell_type": "code",
   "execution_count": 195,
   "metadata": {},
   "outputs": [
    {
     "name": "stderr",
     "output_type": "stream",
     "text": [
      "/Applications/anaconda3/lib/python3.11/site-packages/seaborn/_oldcore.py:1119: FutureWarning: use_inf_as_na option is deprecated and will be removed in a future version. Convert inf values to NaN before operating instead.\n",
      "  with pd.option_context('mode.use_inf_as_na', True):\n"
     ]
    },
    {
     "data": {
      "image/png": "[encoded data removed]",
      "text/plain": [
       "<Figure size 640x480 with 1 Axes>"
      ]
     },
     "metadata": {},
     "output_type": "display_data"
    }
   ],
   "source": [
    "# The distribution of TF-IDF negative scores\n",
    "sns.histplot(data=df_10ksp_filtered4, x='Negative_tf', bins=100, kde=True)\n",
    "plt.title('Distribution of TFIDF NEG SCORE')\n",
    "plt.xlabel('TFIDF NEG SCORE')\n",
    "plt.ylabel('Frequency')\n",
    "plt.show()"
   ]
  },
  {
   "cell_type": "markdown",
   "metadata": {},
   "source": [
    "#### 2.1 TFIDF VS ABNORMAL VOLUME"
   ]
  },
  {
   "cell_type": "code",
   "execution_count": 252,
   "metadata": {},
   "outputs": [
    {
     "name": "stdout",
     "output_type": "stream",
     "text": [
      "                            OLS Regression Results                            \n",
      "==============================================================================\n",
      "Dep. Variable:       abnormal_vol_mcd   R-squared:                       0.002\n",
      "Model:                            OLS   Adj. R-squared:                  0.000\n",
      "Method:                 Least Squares   F-statistic:                     1.172\n",
      "Date:                Mon, 26 Feb 2024   Prob (F-statistic):              0.321\n",
      "Time:                        10:16:01   Log-Likelihood:                -2863.6\n",
      "No. Observations:                3063   AIC:                             5737.\n",
      "Df Residuals:                    3058   BIC:                             5767.\n",
      "Df Model:                           4                                         \n",
      "Covariance Type:            nonrobust                                         \n",
      "==============================================================================\n",
      "                 coef    std err          t      P>|t|      [0.025      0.975]\n",
      "------------------------------------------------------------------------------\n",
      "const          1.1500      0.011    103.187      0.000       1.128       1.172\n",
      "x1             0.0212      0.011      1.874      0.061      -0.001       0.043\n",
      "x2            -0.0065      0.011     -0.573      0.567      -0.029       0.016\n",
      "x3            -0.0005      0.011     -0.049      0.961      -0.022       0.021\n",
      "x4             0.0130      0.011      1.157      0.247      -0.009       0.035\n",
      "==============================================================================\n",
      "Omnibus:                     3565.565   Durbin-Watson:                   1.884\n",
      "Prob(Omnibus):                  0.000   Jarque-Bera (JB):           649403.594\n",
      "Skew:                           5.819   Prob(JB):                         0.00\n",
      "Kurtosis:                      73.377   Cond. No.                         1.21\n",
      "==============================================================================\n",
      "\n",
      "Notes:\n",
      "[1] Standard Errors assume that the covariance matrix of the errors is correctly specified.\n"
     ]
    }
   ],
   "source": [
    "import pandas as pd\n",
    "import numpy as np\n",
    "import scipy.stats as stats\n",
    "import statsmodels.api as sm\n",
    "from sklearn.preprocessing import StandardScaler\n",
    "\n",
    "\n",
    "merge_tf = pd.merge(df_10ksp_filtered4, vol, on='ACCESSION NUMBER')\n",
    "merge_tf = merge_tf.dropna(subset=['abnormal_vol_mcd'])\n",
    "# merge_tf = merge_tf[merge_tf['abnormal_vol_mcd'] >= 1]\n",
    "\n",
    "\n",
    "merge_tf['PB_ratios'] = pd.to_numeric(merge_tf['PB_ratios'], errors='coerce')\n",
    "merge_tf['PB_ratios'].fillna(merge_tf['PB_ratios'].mean(), inplace=True)\n",
    "\n",
    "merge_tf['mkt_cap'] = pd.to_numeric(merge_tf['mkt_cap'], errors='coerce')\n",
    "merge_tf['mkt_cap'].fillna(merge_tf['mkt_cap'].mean(), inplace=True)\n",
    "\n",
    "X = merge_tf[['Negative_tf', 'Positive_tf', 'mkt_cap', 'PB_ratios']]\n",
    "scaler = StandardScaler()\n",
    "X_scaled = scaler.fit_transform(X)\n",
    "\n",
    "X_scaled_with_const = sm.add_constant(X_scaled)\n",
    "\n",
    "\n",
    "Y = merge_tf['abnormal_vol_mcd']\n",
    "\n",
    "model = sm.OLS(Y, X_scaled_with_const).fit()\n",
    "\n",
    "print(model.summary())\n",
    "\n"
   ]
  },
  {
   "cell_type": "markdown",
   "metadata": {},
   "source": [
    "#### 2.2 TFIDF VS ABNORMAL RETURN"
   ]
  },
  {
   "cell_type": "code",
   "execution_count": 253,
   "metadata": {},
   "outputs": [],
   "source": [
    "merge_tf = pd.merge(merge_tf, ar[['ACCESSION NUMBER', 'CAR(T0)', 'CAR(T1)', 'CAR(T3)', 'CAR(T5)', 'CAR(T10)', 'CAR(T15)', 'CAR(T20)', 'CAR(T30)', 'CAR(T60)','alpha']], on='ACCESSION NUMBER', how='left')"
   ]
  },
  {
   "cell_type": "code",
   "execution_count": 254,
   "metadata": {},
   "outputs": [],
   "source": [
    "merge_tf = merge_tf.replace([np.inf, -np.inf], np.nan)\n",
    "merge_tf = merge_tf.dropna(subset=['Negative_tf', 'Positive_tf', 'mkt_cap', 'PB_ratios', 'alpha', 'CAR(T0)']) "
   ]
  },
  {
   "cell_type": "code",
   "execution_count": 256,
   "metadata": {},
   "outputs": [
    {
     "name": "stdout",
     "output_type": "stream",
     "text": [
      "                            OLS Regression Results                            \n",
      "==============================================================================\n",
      "Dep. Variable:                CAR(T0)   R-squared:                       0.002\n",
      "Model:                            OLS   Adj. R-squared:                  0.000\n",
      "Method:                 Least Squares   F-statistic:                     1.164\n",
      "Date:                Mon, 26 Feb 2024   Prob (F-statistic):              0.325\n",
      "Time:                        10:17:19   Log-Likelihood:                 6572.0\n",
      "No. Observations:                3096   AIC:                        -1.313e+04\n",
      "Df Residuals:                    3090   BIC:                        -1.310e+04\n",
      "Df Model:                           5                                         \n",
      "Covariance Type:            nonrobust                                         \n",
      "==============================================================================\n",
      "                 coef    std err          t      P>|t|      [0.025      0.975]\n",
      "------------------------------------------------------------------------------\n",
      "const          0.0006      0.001      1.083      0.279      -0.000       0.002\n",
      "x1             0.0001      0.001      0.232      0.817      -0.001       0.001\n",
      "x2         -8.858e-05      0.001     -0.167      0.867      -0.001       0.001\n",
      "x3             0.0006      0.001      1.130      0.259      -0.000       0.002\n",
      "x4            -0.0005      0.001     -1.013      0.311      -0.002       0.000\n",
      "x5             0.0010      0.001      1.925      0.054   -1.85e-05       0.002\n",
      "==============================================================================\n",
      "Omnibus:                     1657.753   Durbin-Watson:                   1.948\n",
      "Prob(Omnibus):                  0.000   Jarque-Bera (JB):           318740.370\n",
      "Skew:                          -1.434   Prob(JB):                         0.00\n",
      "Kurtosis:                      52.625   Cond. No.                         1.21\n",
      "==============================================================================\n",
      "\n",
      "Notes:\n",
      "[1] Standard Errors assume that the covariance matrix of the errors is correctly specified.\n"
     ]
    }
   ],
   "source": [
    "X = merge_tf[['Negative_tf','Positive_tf','mkt_cap', 'PB_ratios','alpha']]\n",
    "scaler = StandardScaler()\n",
    "X_scaled = scaler.fit_transform(X)\n",
    "\n",
    "X_scaled_with_const = sm.add_constant(X_scaled)\n",
    "\n",
    "Y = merge_tf['CAR(T0)']\n",
    "\n",
    "model = sm.OLS(Y, X_scaled_with_const).fit()\n",
    "\n",
    "print(model.summary())"
   ]
  },
  {
   "cell_type": "code",
   "execution_count": 257,
   "metadata": {},
   "outputs": [
    {
     "data": {
      "image/png": "[encoded data removed]",
      "text/plain": [
       "<Figure size 1000x600 with 1 Axes>"
      ]
     },
     "metadata": {},
     "output_type": "display_data"
    }
   ],
   "source": [
    "import matplotlib.pyplot as plt\n",
    "plt.figure(figsize=(10, 6))\n",
    "plt.scatter(merge_tf['Negative_tf'], merge_tf['CAR(T0)'], alpha=0.5)\n",
    "plt.title('Negative Text Frequency vs CAR(T0)')\n",
    "plt.xlabel('Negative Text Frequency')\n",
    "plt.ylabel('CAR(T0)')\n",
    "plt.grid(True)\n",
    "plt.show()\n"
   ]
  },
  {
   "cell_type": "markdown",
   "metadata": {},
   "source": [
    "#### 2.3 TF IDF SENTIMENT VS FINANCIALS"
   ]
  },
  {
   "cell_type": "code",
   "execution_count": 258,
   "metadata": {},
   "outputs": [],
   "source": [
    "merge_tf = pd.merge(merge_tf, fin[['ACCESSION NUMBER', 'CURRENT REVENUE YOY', 'NEXT REVENUE YOY', 'ROE Y0 YOY', 'ROE Y1 YOY', 'ASSET', 'REVENUE', 'ROE']], on='ACCESSION NUMBER', how='left')\n",
    "merge_tf = merge_tf.replace([np.inf, -np.inf], np.nan).dropna(subset=['CURRENT REVENUE YOY', 'NEXT REVENUE YOY', 'ROE Y0 YOY', 'ROE Y1 YOY', 'ASSET', 'REVENUE', 'ROE'])"
   ]
  },
  {
   "cell_type": "code",
   "execution_count": 260,
   "metadata": {},
   "outputs": [
    {
     "name": "stdout",
     "output_type": "stream",
     "text": [
      "                             OLS Regression Results                            \n",
      "===============================================================================\n",
      "Dep. Variable:     CURRENT REVENUE YOY   R-squared:                       0.008\n",
      "Model:                             OLS   Adj. R-squared:                  0.006\n",
      "Method:                  Least Squares   F-statistic:                     4.306\n",
      "Date:                 Mon, 26 Feb 2024   Prob (F-statistic):           0.000663\n",
      "Time:                         10:18:58   Log-Likelihood:                -3549.7\n",
      "No. Observations:                 2814   AIC:                             7111.\n",
      "Df Residuals:                     2808   BIC:                             7147.\n",
      "Df Model:                            5                                         \n",
      "Covariance Type:             nonrobust                                         \n",
      "==============================================================================\n",
      "                 coef    std err          t      P>|t|      [0.025      0.975]\n",
      "------------------------------------------------------------------------------\n",
      "const          0.2132      0.016     13.224      0.000       0.182       0.245\n",
      "x1            -0.0380      0.017     -2.302      0.021      -0.070      -0.006\n",
      "x2             0.0386      0.017      2.334      0.020       0.006       0.071\n",
      "x3            -0.0091      0.018     -0.504      0.614      -0.044       0.026\n",
      "x4            -0.0190      0.018     -1.058      0.290      -0.054       0.016\n",
      "x5             0.0449      0.016      2.735      0.006       0.013       0.077\n",
      "==============================================================================\n",
      "Omnibus:                     5853.319   Durbin-Watson:                   1.954\n",
      "Prob(Omnibus):                  0.000   Jarque-Bera (JB):         16893349.783\n",
      "Skew:                          17.501   Prob(JB):                         0.00\n",
      "Kurtosis:                     380.961   Cond. No.                         1.64\n",
      "==============================================================================\n",
      "\n",
      "Notes:\n",
      "[1] Standard Errors assume that the covariance matrix of the errors is correctly specified.\n"
     ]
    }
   ],
   "source": [
    "X = merge_tf[['Negative_tf','Positive_tf','ASSET', 'REVENUE','ROE']]\n",
    "scaler = StandardScaler()\n",
    "X_scaled = scaler.fit_transform(X)\n",
    "\n",
    "X_scaled_with_const = sm.add_constant(X_scaled)\n",
    "\n",
    "Y = merge_tf['CURRENT REVENUE YOY']\n",
    "\n",
    "model = sm.OLS(Y, X_scaled_with_const).fit()\n",
    "\n",
    "print(model.summary())"
   ]
  },
  {
   "cell_type": "markdown",
   "metadata": {},
   "source": [
    "#### 2.3.2 TFIDF VS FOLLOWING YEAR GROWTH"
   ]
  },
  {
   "cell_type": "code",
   "execution_count": 261,
   "metadata": {},
   "outputs": [
    {
     "name": "stdout",
     "output_type": "stream",
     "text": [
      "                            OLS Regression Results                            \n",
      "==============================================================================\n",
      "Dep. Variable:       NEXT REVENUE YOY   R-squared:                       0.016\n",
      "Model:                            OLS   Adj. R-squared:                  0.014\n",
      "Method:                 Least Squares   F-statistic:                     9.261\n",
      "Date:                Mon, 26 Feb 2024   Prob (F-statistic):           9.30e-09\n",
      "Time:                        10:19:57   Log-Likelihood:                -3413.8\n",
      "No. Observations:                2814   AIC:                             6840.\n",
      "Df Residuals:                    2808   BIC:                             6875.\n",
      "Df Model:                           5                                         \n",
      "Covariance Type:            nonrobust                                         \n",
      "==============================================================================\n",
      "                 coef    std err          t      P>|t|      [0.025      0.975]\n",
      "------------------------------------------------------------------------------\n",
      "const          0.1594      0.015     10.376      0.000       0.129       0.190\n",
      "x1            -0.0358      0.016     -2.277      0.023      -0.067      -0.005\n",
      "x2             0.0716      0.016      4.542      0.000       0.041       0.103\n",
      "x3            -0.0132      0.017     -0.772      0.440      -0.047       0.020\n",
      "x4            -0.0331      0.017     -1.928      0.054      -0.067       0.001\n",
      "x5            -0.0689      0.016     -4.404      0.000      -0.100      -0.038\n",
      "==============================================================================\n",
      "Omnibus:                     6054.662   Durbin-Watson:                   1.977\n",
      "Prob(Omnibus):                  0.000   Jarque-Bera (JB):         22393212.544\n",
      "Skew:                          18.851   Prob(JB):                         0.00\n",
      "Kurtosis:                     438.391   Cond. No.                         1.64\n",
      "==============================================================================\n",
      "\n",
      "Notes:\n",
      "[1] Standard Errors assume that the covariance matrix of the errors is correctly specified.\n"
     ]
    }
   ],
   "source": [
    "X = merge_tf[['Negative_tf','Positive_tf','ASSET', 'REVENUE','ROE']]\n",
    "scaler = StandardScaler()\n",
    "X_scaled = scaler.fit_transform(X)\n",
    "\n",
    "X_scaled_with_const = sm.add_constant(X_scaled)\n",
    "\n",
    "Y = merge_tf['NEXT REVENUE YOY']\n",
    "\n",
    "model = sm.OLS(Y, X_scaled_with_const).fit()\n",
    "\n",
    "print(model.summary())"
   ]
  },
  {
   "cell_type": "markdown",
   "metadata": {},
   "source": [
    "#### 2.3.3 TFIDF VS CURRENT YEAR ROE"
   ]
  },
  {
   "cell_type": "code",
   "execution_count": 264,
   "metadata": {},
   "outputs": [
    {
     "name": "stdout",
     "output_type": "stream",
     "text": [
      "                            OLS Regression Results                            \n",
      "==============================================================================\n",
      "Dep. Variable:             ROE Y0 YOY   R-squared:                       0.370\n",
      "Model:                            OLS   Adj. R-squared:                  0.369\n",
      "Method:                 Least Squares   F-statistic:                     329.6\n",
      "Date:                Mon, 26 Feb 2024   Prob (F-statistic):          2.24e-278\n",
      "Time:                        10:24:10   Log-Likelihood:                 392.73\n",
      "No. Observations:                2814   AIC:                            -773.5\n",
      "Df Residuals:                    2808   BIC:                            -737.8\n",
      "Df Model:                           5                                         \n",
      "Covariance Type:            nonrobust                                         \n",
      "==============================================================================\n",
      "                 coef    std err          t      P>|t|      [0.025      0.975]\n",
      "------------------------------------------------------------------------------\n",
      "const          0.0186      0.004      4.683      0.000       0.011       0.026\n",
      "x1             0.0044      0.004      1.087      0.277      -0.004       0.012\n",
      "x2            -0.0033      0.004     -0.820      0.412      -0.011       0.005\n",
      "x3             0.0047      0.004      1.049      0.294      -0.004       0.013\n",
      "x4            -0.0127      0.004     -2.869      0.004      -0.021      -0.004\n",
      "x5             0.1630      0.004     40.284      0.000       0.155       0.171\n",
      "==============================================================================\n",
      "Omnibus:                     2769.183   Durbin-Watson:                   1.931\n",
      "Prob(Omnibus):                  0.000   Jarque-Bera (JB):          1156774.902\n",
      "Skew:                          -3.964   Prob(JB):                         0.00\n",
      "Kurtosis:                     102.010   Cond. No.                         1.64\n",
      "==============================================================================\n",
      "\n",
      "Notes:\n",
      "[1] Standard Errors assume that the covariance matrix of the errors is correctly specified.\n"
     ]
    }
   ],
   "source": [
    "X = merge_tf[['Negative_tf','Positive_tf','ASSET', 'REVENUE','ROE']]\n",
    "scaler = StandardScaler()\n",
    "X_scaled = scaler.fit_transform(X)\n",
    "\n",
    "X_scaled_with_const = sm.add_constant(X_scaled)\n",
    "\n",
    "Y = merge_tf['ROE Y0 YOY']\n",
    "\n",
    "model = sm.OLS(Y, X_scaled_with_const).fit()\n",
    "\n",
    "print(model.summary())"
   ]
  },
  {
   "cell_type": "markdown",
   "metadata": {},
   "source": [
    "#### 2.3.4 TFIDF VS FOLLOWING YEAR ROE\n"
   ]
  },
  {
   "cell_type": "code",
   "execution_count": 265,
   "metadata": {},
   "outputs": [
    {
     "name": "stdout",
     "output_type": "stream",
     "text": [
      "                            OLS Regression Results                            \n",
      "==============================================================================\n",
      "Dep. Variable:             ROE Y1 YOY   R-squared:                       0.015\n",
      "Model:                            OLS   Adj. R-squared:                  0.013\n",
      "Method:                 Least Squares   F-statistic:                     8.448\n",
      "Date:                Mon, 26 Feb 2024   Prob (F-statistic):           6.04e-08\n",
      "Time:                        10:25:10   Log-Likelihood:                -145.85\n",
      "No. Observations:                2814   AIC:                             303.7\n",
      "Df Residuals:                    2808   BIC:                             339.4\n",
      "Df Model:                           5                                         \n",
      "Covariance Type:            nonrobust                                         \n",
      "==============================================================================\n",
      "                 coef    std err          t      P>|t|      [0.025      0.975]\n",
      "------------------------------------------------------------------------------\n",
      "const          0.0130      0.005      2.697      0.007       0.004       0.022\n",
      "x1            -0.0003      0.005     -0.071      0.944      -0.010       0.009\n",
      "x2             0.0120      0.005      2.422      0.015       0.002       0.022\n",
      "x3            -0.0042      0.005     -0.788      0.431      -0.015       0.006\n",
      "x4             0.0060      0.005      1.123      0.261      -0.004       0.017\n",
      "x5            -0.0302      0.005     -6.164      0.000      -0.040      -0.021\n",
      "==============================================================================\n",
      "Omnibus:                     2960.249   Durbin-Watson:                   1.976\n",
      "Prob(Omnibus):                  0.000   Jarque-Bera (JB):          2146310.243\n",
      "Skew:                           4.314   Prob(JB):                         0.00\n",
      "Kurtosis:                     138.022   Cond. No.                         1.64\n",
      "==============================================================================\n",
      "\n",
      "Notes:\n",
      "[1] Standard Errors assume that the covariance matrix of the errors is correctly specified.\n"
     ]
    }
   ],
   "source": [
    "X = merge_tf[['Negative_tf','Positive_tf','ASSET', 'REVENUE','ROE']]\n",
    "scaler = StandardScaler()\n",
    "X_scaled = scaler.fit_transform(X)\n",
    "\n",
    "X_scaled_with_const = sm.add_constant(X_scaled)\n",
    "\n",
    "Y = merge_tf['ROE Y1 YOY']\n",
    "\n",
    "model = sm.OLS(Y, X_scaled_with_const).fit()\n",
    "\n",
    "print(model.summary())"
   ]
  },
  {
   "cell_type": "markdown",
   "metadata": {},
   "source": [
    "## 3. FINBERT"
   ]
  },
  {
   "cell_type": "code",
   "execution_count": 199,
   "metadata": {},
   "outputs": [
    {
     "name": "stderr",
     "output_type": "stream",
     "text": [
      "/Applications/anaconda3/lib/python3.11/site-packages/seaborn/_oldcore.py:1119: FutureWarning: use_inf_as_na option is deprecated and will be removed in a future version. Convert inf values to NaN before operating instead.\n",
      "  with pd.option_context('mode.use_inf_as_na', True):\n"
     ]
    },
    {
     "data": {
      "image/png": "[encoded data removed]",
      "text/plain": [
       "<Figure size 640x480 with 1 Axes>"
      ]
     },
     "metadata": {},
     "output_type": "display_data"
    }
   ],
   "source": [
    "# The distribution of FINBERT  scores\n",
    "sns.histplot(data=df_10ksp_filtered5, x='FINBERT SCORE', bins=100, kde=True)\n",
    "plt.title('Distribution of FINBERT SCORE')\n",
    "plt.xlabel('finbert score')\n",
    "plt.ylabel('Frequency')\n",
    "plt.show()"
   ]
  },
  {
   "cell_type": "markdown",
   "metadata": {},
   "source": [
    "#### 3.1 FINBERT VS ABNORMAL VOLUME"
   ]
  },
  {
   "cell_type": "code",
   "execution_count": 207,
   "metadata": {},
   "outputs": [
    {
     "name": "stdout",
     "output_type": "stream",
     "text": [
      "                            OLS Regression Results                            \n",
      "==============================================================================\n",
      "Dep. Variable:       abnormal_vol_mcd   R-squared:                       0.001\n",
      "Model:                            OLS   Adj. R-squared:                  0.000\n",
      "Method:                 Least Squares   F-statistic:                     1.493\n",
      "Date:                Sun, 25 Feb 2024   Prob (F-statistic):              0.214\n",
      "Time:                        23:40:56   Log-Likelihood:                -2863.7\n",
      "No. Observations:                3063   AIC:                             5735.\n",
      "Df Residuals:                    3059   BIC:                             5760.\n",
      "Df Model:                           3                                         \n",
      "Covariance Type:            nonrobust                                         \n",
      "==============================================================================\n",
      "                 coef    std err          t      P>|t|      [0.025      0.975]\n",
      "------------------------------------------------------------------------------\n",
      "const          1.1500      0.011    103.201      0.000       1.128       1.172\n",
      "x1             0.0205      0.011      1.839      0.066      -0.001       0.042\n",
      "x2            -0.0020      0.011     -0.181      0.856      -0.024       0.020\n",
      "x3             0.0113      0.011      1.011      0.312      -0.011       0.033\n",
      "==============================================================================\n",
      "Omnibus:                     3570.376   Durbin-Watson:                   1.883\n",
      "Prob(Omnibus):                  0.000   Jarque-Bera (JB):           652900.799\n",
      "Skew:                           5.832   Prob(JB):                         0.00\n",
      "Kurtosis:                      73.567   Cond. No.                         1.07\n",
      "==============================================================================\n",
      "\n",
      "Notes:\n",
      "[1] Standard Errors assume that the covariance matrix of the errors is correctly specified.\n"
     ]
    }
   ],
   "source": [
    "import pandas as pd\n",
    "import numpy as np\n",
    "import scipy.stats as stats\n",
    "import statsmodels.api as sm\n",
    "\n",
    "\n",
    "merged_df2 = pd.merge(df_10ksp_filtered5, vol, on='ACCESSION NUMBER')\n",
    "merged_df2 = merged_df2.dropna(subset=['abnormal_vol_mcd'])\n",
    "\n",
    "\n",
    "merged_df2['PB_ratios'] = pd.to_numeric(merged_df2['PB_ratios'], errors='coerce')\n",
    "merged_df2['PB_ratios'].fillna(merged_df2['PB_ratios'].mean(), inplace=True)\n",
    "\n",
    "\n",
    "merged_df2['mkt_cap'] = pd.to_numeric(merged_df2['mkt_cap'], errors='coerce')\n",
    "merged_df2['mkt_cap'].fillna(merged_df2['mkt_cap'].mean(), inplace=True)\n",
    "\n",
    "\n",
    "merged_df2['abnormal_vol_mcd'] = pd.to_numeric(merged_df2['abnormal_vol_mcd'], errors='coerce')\n",
    "\n",
    "\n",
    "X = merged_df2[['FINBERT SCORE', 'mkt_cap', 'PB_ratios']]\n",
    "scaler = StandardScaler()\n",
    "X_scaled = scaler.fit_transform(X)\n",
    "\n",
    "\n",
    "X_scaled_with_const = sm.add_constant(X_scaled)\n",
    "\n",
    "\n",
    "Y = merged_df2['abnormal_vol_mcd']\n",
    "\n",
    "\n",
    "model = sm.OLS(Y, X_scaled_with_const).fit()\n",
    "\n",
    "print(model.summary())"
   ]
  },
  {
   "cell_type": "markdown",
   "metadata": {},
   "source": [
    "#### 3.2 FINBERT VS ABNORMAL RETURN"
   ]
  },
  {
   "cell_type": "code",
   "execution_count": 208,
   "metadata": {},
   "outputs": [
    {
     "name": "stdout",
     "output_type": "stream",
     "text": [
      "                            OLS Regression Results                            \n",
      "==============================================================================\n",
      "Dep. Variable:                CAR(T0)   R-squared:                       0.002\n",
      "Model:                            OLS   Adj. R-squared:                  0.001\n",
      "Method:                 Least Squares   F-statistic:                     1.864\n",
      "Date:                Sun, 25 Feb 2024   Prob (F-statistic):              0.114\n",
      "Time:                        23:41:00   Log-Likelihood:                 6572.8\n",
      "No. Observations:                3096   AIC:                        -1.314e+04\n",
      "Df Residuals:                    3091   BIC:                        -1.311e+04\n",
      "Df Model:                           4                                         \n",
      "Covariance Type:            nonrobust                                         \n",
      "==============================================================================\n",
      "                 coef    std err          t      P>|t|      [0.025      0.975]\n",
      "------------------------------------------------------------------------------\n",
      "const          0.0006      0.001      1.083      0.279      -0.000       0.002\n",
      "x1             0.0007      0.001      1.306      0.192      -0.000       0.002\n",
      "x2             0.0006      0.001      1.085      0.278      -0.000       0.002\n",
      "x3            -0.0006      0.001     -1.067      0.286      -0.002       0.000\n",
      "x4             0.0010      0.001      1.951      0.051   -5.29e-06       0.002\n",
      "==============================================================================\n",
      "Omnibus:                     1655.011   Durbin-Watson:                   1.948\n",
      "Prob(Omnibus):                  0.000   Jarque-Bera (JB):           317954.064\n",
      "Skew:                          -1.430   Prob(JB):                         0.00\n",
      "Kurtosis:                      52.564   Cond. No.                         1.08\n",
      "==============================================================================\n",
      "\n",
      "Notes:\n",
      "[1] Standard Errors assume that the covariance matrix of the errors is correctly specified.\n"
     ]
    }
   ],
   "source": [
    "merged_df2 = pd.merge(merged_df2, ar[['ACCESSION NUMBER', 'CAR(T0)', 'CAR(T1)', 'CAR(T3)', 'CAR(T5)', 'CAR(T10)', 'CAR(T15)', 'CAR(T20)', 'CAR(T30)', 'CAR(T60)','alpha']], on='ACCESSION NUMBER', how='left')\n",
    "merged_df2=merged_df2.dropna(subset=['alpha'])\n",
    "X = merged_df2[['FINBERT SCORE','mkt_cap','PB_ratios','alpha']]\n",
    "scaler = StandardScaler()\n",
    "X_scaled = scaler.fit_transform(X)\n",
    "\n",
    "X_scaled_with_const = sm.add_constant(X_scaled)\n",
    "\n",
    "Y = merged_df2['CAR(T0)']\n",
    "\n",
    "model = sm.OLS(Y, X_scaled_with_const).fit()\n",
    "\n",
    "print(model.summary())"
   ]
  },
  {
   "cell_type": "markdown",
   "metadata": {},
   "source": [
    "#### 3.3 FINBERT SENTIMENT VS FINANCIALS"
   ]
  },
  {
   "cell_type": "code",
   "execution_count": 266,
   "metadata": {},
   "outputs": [],
   "source": [
    "merged_df2 = pd.merge(merged_df2, fin[['ACCESSION NUMBER', 'CURRENT REVENUE YOY', 'NEXT REVENUE YOY', 'ROE Y0 YOY', 'ROE Y1 YOY', 'ASSET', 'REVENUE', 'ROE']], on='ACCESSION NUMBER', how='left')\n",
    "merged_df2 = merged_df2.replace([np.inf, -np.inf], np.nan).dropna(subset=['CURRENT REVENUE YOY', 'NEXT REVENUE YOY', 'ROE Y0 YOY', 'ROE Y1 YOY', 'ASSET', 'REVENUE', 'ROE'])"
   ]
  },
  {
   "cell_type": "markdown",
   "metadata": {},
   "source": [
    "#### 3.3.1 FINBERT SCORE VS CURRENT YEAR REVENUE GROWTH"
   ]
  },
  {
   "cell_type": "code",
   "execution_count": 268,
   "metadata": {},
   "outputs": [
    {
     "name": "stdout",
     "output_type": "stream",
     "text": [
      "                             OLS Regression Results                            \n",
      "===============================================================================\n",
      "Dep. Variable:     CURRENT REVENUE YOY   R-squared:                       0.006\n",
      "Model:                             OLS   Adj. R-squared:                  0.005\n",
      "Method:                  Least Squares   F-statistic:                     4.530\n",
      "Date:                 Mon, 26 Feb 2024   Prob (F-statistic):            0.00120\n",
      "Time:                         10:29:26   Log-Likelihood:                -3551.4\n",
      "No. Observations:                 2814   AIC:                             7113.\n",
      "Df Residuals:                     2809   BIC:                             7142.\n",
      "Df Model:                            4                                         \n",
      "Covariance Type:             nonrobust                                         \n",
      "==============================================================================\n",
      "                 coef    std err          t      P>|t|      [0.025      0.975]\n",
      "------------------------------------------------------------------------------\n",
      "const          0.2132      0.016     13.219      0.000       0.182       0.245\n",
      "x1            -0.0387      0.016     -2.396      0.017      -0.070      -0.007\n",
      "x2            -0.0175      0.018     -0.982      0.326      -0.052       0.017\n",
      "x3            -0.0134      0.018     -0.747      0.455      -0.049       0.022\n",
      "x4             0.0531      0.016      3.265      0.001       0.021       0.085\n",
      "==============================================================================\n",
      "Omnibus:                     5863.071   Durbin-Watson:                   1.954\n",
      "Prob(Omnibus):                  0.000   Jarque-Bera (JB):         17066785.483\n",
      "Skew:                          17.567   Prob(JB):                         0.00\n",
      "Kurtosis:                     382.901   Cond. No.                         1.60\n",
      "==============================================================================\n",
      "\n",
      "Notes:\n",
      "[1] Standard Errors assume that the covariance matrix of the errors is correctly specified.\n"
     ]
    }
   ],
   "source": [
    "X = merged_df2[['FINBERT SCORE','ASSET', 'REVENUE','ROE']]\n",
    "scaler = StandardScaler()\n",
    "X_scaled = scaler.fit_transform(X)\n",
    "\n",
    "X_scaled_with_const = sm.add_constant(X_scaled)\n",
    "\n",
    "Y = merged_df2['CURRENT REVENUE YOY']\n",
    "\n",
    "model = sm.OLS(Y, X_scaled_with_const).fit()\n",
    "\n",
    "print(model.summary())"
   ]
  },
  {
   "cell_type": "markdown",
   "metadata": {},
   "source": [
    "#### 3.3.2 FINBERT SCORE VS FOLLOWING YEAR REVENUE GROWTH"
   ]
  },
  {
   "cell_type": "markdown",
   "metadata": {},
   "source": []
  },
  {
   "cell_type": "code",
   "execution_count": 269,
   "metadata": {},
   "outputs": [
    {
     "name": "stdout",
     "output_type": "stream",
     "text": [
      "                            OLS Regression Results                            \n",
      "==============================================================================\n",
      "Dep. Variable:       NEXT REVENUE YOY   R-squared:                       0.009\n",
      "Model:                            OLS   Adj. R-squared:                  0.007\n",
      "Method:                 Least Squares   F-statistic:                     6.264\n",
      "Date:                Mon, 26 Feb 2024   Prob (F-statistic):           5.14e-05\n",
      "Time:                        10:30:30   Log-Likelihood:                -3424.4\n",
      "No. Observations:                2814   AIC:                             6859.\n",
      "Df Residuals:                    2809   BIC:                             6888.\n",
      "Df Model:                           4                                         \n",
      "Covariance Type:            nonrobust                                         \n",
      "==============================================================================\n",
      "                 coef    std err          t      P>|t|      [0.025      0.975]\n",
      "------------------------------------------------------------------------------\n",
      "const          0.1594      0.015     10.339      0.000       0.129       0.190\n",
      "x1            -0.0207      0.015     -1.344      0.179      -0.051       0.010\n",
      "x2            -0.0245      0.017     -1.436      0.151      -0.058       0.009\n",
      "x3            -0.0252      0.017     -1.471      0.141      -0.059       0.008\n",
      "x4            -0.0582      0.016     -3.741      0.000      -0.089      -0.028\n",
      "==============================================================================\n",
      "Omnibus:                     6096.738   Durbin-Watson:                   1.984\n",
      "Prob(Omnibus):                  0.000   Jarque-Bera (JB):         23468276.930\n",
      "Skew:                          19.151   Prob(JB):                         0.00\n",
      "Kurtosis:                     448.745   Cond. No.                         1.60\n",
      "==============================================================================\n",
      "\n",
      "Notes:\n",
      "[1] Standard Errors assume that the covariance matrix of the errors is correctly specified.\n"
     ]
    }
   ],
   "source": [
    "X = merged_df2[['FINBERT SCORE','ASSET', 'REVENUE','ROE']]\n",
    "scaler = StandardScaler()\n",
    "X_scaled = scaler.fit_transform(X)\n",
    "\n",
    "X_scaled_with_const = sm.add_constant(X_scaled)\n",
    "\n",
    "Y = merged_df2['NEXT REVENUE YOY']\n",
    "\n",
    "model = sm.OLS(Y, X_scaled_with_const).fit()\n",
    "\n",
    "print(model.summary())"
   ]
  },
  {
   "cell_type": "markdown",
   "metadata": {},
   "source": [
    "#### 3.3.3 FINBERT SCORE VS CURRENT YEAR ROE CHANGE"
   ]
  },
  {
   "cell_type": "code",
   "execution_count": 271,
   "metadata": {},
   "outputs": [
    {
     "name": "stdout",
     "output_type": "stream",
     "text": [
      "                            OLS Regression Results                            \n",
      "==============================================================================\n",
      "Dep. Variable:             ROE Y0 YOY   R-squared:                       0.370\n",
      "Model:                            OLS   Adj. R-squared:                  0.369\n",
      "Method:                 Least Squares   F-statistic:                     412.5\n",
      "Date:                Mon, 26 Feb 2024   Prob (F-statistic):          7.36e-280\n",
      "Time:                        10:31:49   Log-Likelihood:                 393.07\n",
      "No. Observations:                2814   AIC:                            -776.1\n",
      "Df Residuals:                    2809   BIC:                            -746.4\n",
      "Df Model:                           4                                         \n",
      "Covariance Type:            nonrobust                                         \n",
      "==============================================================================\n",
      "                 coef    std err          t      P>|t|      [0.025      0.975]\n",
      "------------------------------------------------------------------------------\n",
      "const          0.0186      0.004      4.685      0.000       0.011       0.026\n",
      "x1            -0.0060      0.004     -1.508      0.132      -0.014       0.002\n",
      "x2             0.0054      0.004      1.223      0.221      -0.003       0.014\n",
      "x3            -0.0132      0.004     -2.988      0.003      -0.022      -0.005\n",
      "x4             0.1624      0.004     40.556      0.000       0.155       0.170\n",
      "==============================================================================\n",
      "Omnibus:                     2777.597   Durbin-Watson:                   1.936\n",
      "Prob(Omnibus):                  0.000   Jarque-Bera (JB):          1169558.878\n",
      "Skew:                          -3.984   Prob(JB):                         0.00\n",
      "Kurtosis:                     102.556   Cond. No.                         1.60\n",
      "==============================================================================\n",
      "\n",
      "Notes:\n",
      "[1] Standard Errors assume that the covariance matrix of the errors is correctly specified.\n"
     ]
    }
   ],
   "source": [
    "X = merged_df2[['FINBERT SCORE','ASSET', 'REVENUE','ROE']]\n",
    "scaler = StandardScaler()\n",
    "X_scaled = scaler.fit_transform(X)\n",
    "\n",
    "X_scaled_with_const = sm.add_constant(X_scaled)\n",
    "\n",
    "Y = merged_df2['ROE Y0 YOY']\n",
    "\n",
    "model = sm.OLS(Y, X_scaled_with_const).fit()\n",
    "\n",
    "print(model.summary())"
   ]
  },
  {
   "cell_type": "markdown",
   "metadata": {},
   "source": [
    "#### 3.3.4 FINBERT SCORE VS FOLLOWING YEAR ROE CHANGE"
   ]
  },
  {
   "cell_type": "code",
   "execution_count": 272,
   "metadata": {},
   "outputs": [
    {
     "name": "stdout",
     "output_type": "stream",
     "text": [
      "                            OLS Regression Results                            \n",
      "==============================================================================\n",
      "Dep. Variable:             ROE Y1 YOY   R-squared:                       0.013\n",
      "Model:                            OLS   Adj. R-squared:                  0.012\n",
      "Method:                 Least Squares   F-statistic:                     9.193\n",
      "Date:                Mon, 26 Feb 2024   Prob (F-statistic):           2.24e-07\n",
      "Time:                        10:32:26   Log-Likelihood:                -148.56\n",
      "No. Observations:                2814   AIC:                             307.1\n",
      "Df Residuals:                    2809   BIC:                             336.8\n",
      "Df Model:                           4                                         \n",
      "Covariance Type:            nonrobust                                         \n",
      "==============================================================================\n",
      "                 coef    std err          t      P>|t|      [0.025      0.975]\n",
      "------------------------------------------------------------------------------\n",
      "const          0.0130      0.005      2.695      0.007       0.004       0.022\n",
      "x1             0.0037      0.005      0.765      0.444      -0.006       0.013\n",
      "x2            -0.0054      0.005     -1.017      0.309      -0.016       0.005\n",
      "x3             0.0069      0.005      1.296      0.195      -0.004       0.017\n",
      "x4            -0.0291      0.005     -5.993      0.000      -0.039      -0.020\n",
      "==============================================================================\n",
      "Omnibus:                     2974.220   Durbin-Watson:                   1.975\n",
      "Prob(Omnibus):                  0.000   Jarque-Bera (JB):          2168447.472\n",
      "Skew:                           4.352   Prob(JB):                         0.00\n",
      "Kurtosis:                     138.715   Cond. No.                         1.60\n",
      "==============================================================================\n",
      "\n",
      "Notes:\n",
      "[1] Standard Errors assume that the covariance matrix of the errors is correctly specified.\n"
     ]
    }
   ],
   "source": [
    "X = merged_df2[['FINBERT SCORE','ASSET', 'REVENUE','ROE']]\n",
    "scaler = StandardScaler()\n",
    "X_scaled = scaler.fit_transform(X)\n",
    "\n",
    "X_scaled_with_const = sm.add_constant(X_scaled)\n",
    "\n",
    "Y = merged_df2['ROE Y1 YOY']\n",
    "\n",
    "model = sm.OLS(Y, X_scaled_with_const).fit()\n",
    "\n",
    "print(model.summary())"
   ]
  }
 ],
 "metadata": {
  "kernelspec": {
   "display_name": "base",
   "language": "python",
   "name": "python3"
  },
  "language_info": {
   "codemirror_mode": {
    "name": "ipython",
    "version": 3
   },
   "file_extension": ".py",
   "mimetype": "text/x-python",
   "name": "python",
   "nbconvert_exporter": "python",
   "pygments_lexer": "ipython3",
   "version": "3.11.6"
  }
 },
 "nbformat": 4,
 "nbformat_minor": 2
}
